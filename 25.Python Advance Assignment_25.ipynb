{
 "cells": [
  {
   "cell_type": "markdown",
   "id": "568bcadd",
   "metadata": {},
   "source": [
    "## 25.Python Advance Assignment_25"
   ]
  },
  {
   "cell_type": "markdown",
   "id": "18920253",
   "metadata": {},
   "source": [
    "### Q1. What is the distinction between a numpy array and a pandas data frame? Is there a way to convert between the two if there is ?\n",
    "\n",
    "### Ans:\n",
    "    Pandas consume more memory compared to NumPy. NumPy has lesser memory consumption compared to Pandas. DataFrames are the two-dimensional (2d) Objects provided by Pandas. NumPy provides n-dimensional arrays, Data Type (dtype)\n",
    "    Conversion : Dataframe=pandas.DataFrame(array)"
   ]
  },
  {
   "cell_type": "markdown",
   "id": "677495eb",
   "metadata": {},
   "source": [
    "### Q2. Identify some of the plotting techniques that are used to produce a stock-market chart ?\n",
    "\n",
    "### Ans:\n",
    "    Bar chart, Line Chart are used for plotting."
   ]
  },
  {
   "cell_type": "markdown",
   "id": "10edfcdd",
   "metadata": {},
   "source": [
    "### Q3. Why is it essential to print a legend on a stock market chart ?\n",
    "\n",
    "### Ans:\n",
    "     Legend will help comparison between different stocks, so will be essential on a stock market chart"
   ]
  },
  {
   "cell_type": "markdown",
   "id": "eefc1a71",
   "metadata": {},
   "source": [
    "### Q4. What is the best way to limit the length of a pandas data frame to less than a year ?\n",
    "\n",
    "### Ans:  \n",
    "    We can use start and end parameters for that. In start we write the date from where we are starting and at the end we write the end date. SO within this span we can restric the duration.Also we can use the parameters like periods for how much times we need the duration and we can also use the frequency parameter."
   ]
  },
  {
   "cell_type": "markdown",
   "id": "5884b246",
   "metadata": {},
   "source": [
    "### Q5. What is the definition of a 180-day moving average ?\n",
    "\n",
    "### Ans:  \n",
    "    The 180-day moving average is represented as a line on charts and represents the average price over the past 180 days. The moving average can give traders a sense regarding whether the trend is up or down, while also identifying potential support or resistance areas."
   ]
  },
  {
   "cell_type": "code",
   "execution_count": null,
   "id": "7bdeaa98",
   "metadata": {},
   "outputs": [],
   "source": []
  }
 ],
 "metadata": {
  "kernelspec": {
   "display_name": "Python 3 (ipykernel)",
   "language": "python",
   "name": "python3"
  },
  "language_info": {
   "codemirror_mode": {
    "name": "ipython",
    "version": 3
   },
   "file_extension": ".py",
   "mimetype": "text/x-python",
   "name": "python",
   "nbconvert_exporter": "python",
   "pygments_lexer": "ipython3",
   "version": "3.9.7"
  }
 },
 "nbformat": 4,
 "nbformat_minor": 5
}
