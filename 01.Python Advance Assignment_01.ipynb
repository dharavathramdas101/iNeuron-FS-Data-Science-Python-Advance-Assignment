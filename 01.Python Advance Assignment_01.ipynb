{
 "cells": [
  {
   "cell_type": "code",
   "execution_count": null,
   "id": "7d62ead0",
   "metadata": {},
   "outputs": [],
   "source": [
    "# Assignment_01"
   ]
  },
  {
   "cell_type": "markdown",
   "id": "6f470a5e",
   "metadata": {},
   "source": [
    "Q1. What is the purpose of Python's OOP?"
   ]
  },
  {
   "cell_type": "code",
   "execution_count": null,
   "id": "4568b6f9",
   "metadata": {},
   "outputs": [],
   "source": [
    "#Ans:-\n",
    "OOP : Object oriented programing language is used to create number of objects ,oops is contains the class ,class is a blueprint in side the class attribute and methods ,class is logical entity used to create the no of objects ,objects is a physical entity, oops is used for reusability, we use in projects "
   ]
  },
  {
   "cell_type": "markdown",
   "id": "6b4c3b6e",
   "metadata": {},
   "source": [
    "Q2. Where does an inheritance search look for an attribute?"
   ]
  },
  {
   "cell_type": "code",
   "execution_count": null,
   "id": "0c6d1f63",
   "metadata": {},
   "outputs": [],
   "source": [
    "python search for an attribute in an upward tree of attribute ,it first searches for the attribute in its instance and then looks in the class it is generated form ,to all super classes listed in its class heder"
   ]
  },
  {
   "cell_type": "markdown",
   "id": "932c6e2a",
   "metadata": {},
   "source": [
    "Q3. How do you distinguish between a class object and an instance object?"
   ]
  },
  {
   "cell_type": "code",
   "execution_count": null,
   "id": "aab4038f",
   "metadata": {},
   "outputs": [],
   "source": [
    "#Ans:-\n",
    "Class is a template for creating objects whereas object is an instance of class\n",
    "Seperate memory is allocated for each object whenever an object is created. but for a class this doesnot happens.\n",
    "A Class is created once. Many objects are created using a class.\n",
    "As Classes have no allocated memory. they can't be manipulated. but objects can be manipulated."
   ]
  },
  {
   "cell_type": "markdown",
   "id": "ecf72da7",
   "metadata": {},
   "source": [
    "Q4. What makes the first argument in a class’s method function special?"
   ]
  },
  {
   "cell_type": "code",
   "execution_count": null,
   "id": "556e6206",
   "metadata": {},
   "outputs": [],
   "source": [
    "#Ans:-\n",
    "when the class's method contains the first argument as self ,it is refers to object it self"
   ]
  },
  {
   "cell_type": "markdown",
   "id": "e104279e",
   "metadata": {},
   "source": [
    "Q5. What is the purpose of the init method?"
   ]
  },
  {
   "cell_type": "code",
   "execution_count": null,
   "id": "b3953a93",
   "metadata": {},
   "outputs": [],
   "source": [
    "#Ans:-\n",
    "__init__ method is a constructer when object is created it is called ,constructer is behaves like a pointer to pass the values to method to class,intialize attribute of class "
   ]
  },
  {
   "cell_type": "markdown",
   "id": "6b4a4c3d",
   "metadata": {},
   "source": [
    "Q6. What is the process for creating a class instance"
   ]
  },
  {
   "cell_type": "code",
   "execution_count": null,
   "id": "25d0c759",
   "metadata": {},
   "outputs": [],
   "source": [
    "#Ans:-\n",
    "to crate instance of a class,you call the claa using class name and pass in whatever arguments its __init__method accepts"
   ]
  },
  {
   "cell_type": "markdown",
   "id": "c30c864f",
   "metadata": {},
   "source": [
    "Q7. What is the process for creating a class?"
   ]
  },
  {
   "cell_type": "code",
   "execution_count": 3,
   "id": "b37fae97",
   "metadata": {},
   "outputs": [],
   "source": [
    "#Ans:-\n",
    "class keyword is used to create a class in python , the syntax in python is class classname:\n",
    "   example: class human:"
   ]
  },
  {
   "cell_type": "markdown",
   "id": "3df0f679",
   "metadata": {},
   "source": [
    "Q8. How would you define the superclasses of a class?"
   ]
  },
  {
   "cell_type": "code",
   "execution_count": null,
   "id": "93ff8719",
   "metadata": {},
   "outputs": [],
   "source": [
    "#Ans:-\n",
    "superclass is parent class/base properties inherite the  child class\n",
    "example:\n",
    "    class superclass:"
   ]
  }
 ],
 "metadata": {
  "kernelspec": {
   "display_name": "Python 3 (ipykernel)",
   "language": "python",
   "name": "python3"
  },
  "language_info": {
   "codemirror_mode": {
    "name": "ipython",
    "version": 3
   },
   "file_extension": ".py",
   "mimetype": "text/x-python",
   "name": "python",
   "nbconvert_exporter": "python",
   "pygments_lexer": "ipython3",
   "version": "3.9.7"
  }
 },
 "nbformat": 4,
 "nbformat_minor": 5
}
