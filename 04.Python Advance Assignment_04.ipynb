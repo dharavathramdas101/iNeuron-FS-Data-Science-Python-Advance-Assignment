{
 "cells": [
  {
   "cell_type": "markdown",
   "id": "9e6ed1d6",
   "metadata": {},
   "source": [
    "## 04.Python Advance Assignment_04"
   ]
  },
  {
   "cell_type": "markdown",
   "id": "ee69bc61",
   "metadata": {},
   "source": [
    "### Q1. Which two operator overloading methods can you use in your classes to support iteration?"
   ]
  },
  {
   "cell_type": "markdown",
   "id": "956f0613",
   "metadata": {},
   "source": [
    "Ans:-\n",
    "    The __iter__ returns the iterator object and is implicitly called at the start of loops. The __next__ method returns the next value and is implicitly called at each loop increment.\n",
    "  __iter__ and __next__ are the operator overloading methods in python that support iteration and are collectively called iterator protocol.   "
   ]
  },
  {
   "cell_type": "code",
   "execution_count": 4,
   "id": "a8f9b077",
   "metadata": {},
   "outputs": [
    {
     "name": "stdout",
     "output_type": "stream",
     "text": [
      "4 5 6 7 8 9 10 11 12 13 14 15 16 17 18 19 20 "
     ]
    }
   ],
   "source": [
    "class counter:\n",
    "    def __init__(self,low,high):\n",
    "        self.current = low\n",
    "        self.high = high\n",
    "    def __iter__(self):\n",
    "        return self\n",
    "    def __next__(self):\n",
    "        if self.current > self.high:\n",
    "            raise StopIteration\n",
    "        else:\n",
    "            self.current += 1\n",
    "            return self.current - 1\n",
    "for ele in counter(4,20):\n",
    "    print(ele,end=\" \")"
   ]
  },
  {
   "cell_type": "markdown",
   "id": "8050830d",
   "metadata": {},
   "source": [
    "### Q2. In what contexts do the two operator overloading methods manage printing?"
   ]
  },
  {
   "cell_type": "markdown",
   "id": "a2de8f54",
   "metadata": {},
   "source": [
    "Ans: __str__ and __repr__ are two operator overloading methods that manage printing.\n",
    "\n",
    "In Short, the difference between both these operators is the goal of __repr__ is to be unambiguous and __str__ is to be readable.\n",
    "Whenever we are printing any object reference internally __str__ method will be called by default.\n",
    "The main purpose of __str__ is for readability. it prints the informal string representation of an object, one that is useful for printing the object. it may not be possible to convert result string to original object.\n",
    "__repr__ is used to print official string representation of an object, so it includes all information and development."
   ]
  },
  {
   "cell_type": "code",
   "execution_count": 5,
   "id": "9de23197",
   "metadata": {},
   "outputs": [
    {
     "name": "stdout",
     "output_type": "stream",
     "text": [
      "<__main__.Student object at 0x0000021DFCF6BBB0>\n",
      "Student Name: Mano and Roll No: 1\n",
      "2022-10-18 11:21:07.097602\n",
      "Unable to convert back to original object\n",
      "datetime.datetime(2022, 10, 18, 11, 21, 7, 97602)\n",
      "2022-10-18 11:21:07.097602\n"
     ]
    }
   ],
   "source": [
    "class Student:\n",
    "    def __init__(self,name,roll_no):\n",
    "        self.name = name\n",
    "        self.roll_no = roll_no\n",
    "        \n",
    "s1 = Student(\"Mano\",1)\n",
    "print(str(s1))\n",
    "\n",
    "class Student:\n",
    "    def __init__(self,name,roll_no):\n",
    "        self.name = name\n",
    "        self.roll_no = roll_no\n",
    "    def __str__(self):\n",
    "        return f'Student Name: {self.name} and Roll No: {self.roll_no}'\n",
    "    \n",
    "s1 = Student(\"Mano\",1)\n",
    "print(str(s1))\n",
    "\n",
    "import datetime\n",
    "today = datetime.datetime.now()\n",
    "\n",
    "s = str(today) # converting datetime object to presentable str\n",
    "print(s)\n",
    "try: d = eval(s) # converting str back to datetime object\n",
    "except: print(\"Unable to convert back to original object\")\n",
    "    \n",
    "u = repr(today) # converting datetime object to str\n",
    "print(u)\n",
    "e = eval(u) # converting str back to datetime object\n",
    "print(e)"
   ]
  },
  {
   "cell_type": "markdown",
   "id": "283a8769",
   "metadata": {},
   "source": [
    "### Q3. In a class, how do you intercept slice operations?"
   ]
  },
  {
   "cell_type": "markdown",
   "id": "01e35c23",
   "metadata": {},
   "source": [
    "Ans: In a class use of slice() in __getitem__ method is used for intercept slice operation. This slice method is provided with start integer number, stop integer number and step integer number.\n",
    "\n",
    "Example: __getitem__(slice(start,stop,step))"
   ]
  },
  {
   "cell_type": "markdown",
   "id": "fc4e7424",
   "metadata": {},
   "source": [
    "### Q4. In a class, how do you capture in-place addition?"
   ]
  },
  {
   "cell_type": "markdown",
   "id": "1b60432f",
   "metadata": {},
   "source": [
    "Ans: a+b is normal addition. Whereas a+=b is inplace addition operation. In this in-place addition a itself will store the value of addition. In a class __iadd__ method is used for this in-place operation"
   ]
  },
  {
   "cell_type": "code",
   "execution_count": 6,
   "id": "45faf37b",
   "metadata": {},
   "outputs": [
    {
     "name": "stdout",
     "output_type": "stream",
     "text": [
      "300\n"
     ]
    }
   ],
   "source": [
    "class Book:\n",
    "    def __init__(self,pages):\n",
    "        self.pages = pages\n",
    "    def __iadd__(self,other):\n",
    "        self.pages += other.pages\n",
    "        return self.pages\n",
    "        \n",
    "b1 = Book(100)\n",
    "b2 = Book(200)\n",
    "b1+=b2\n",
    "print(b1)"
   ]
  },
  {
   "cell_type": "markdown",
   "id": "6dd5b8cf",
   "metadata": {},
   "source": [
    "### Q5. When is it appropriate to use operator overloading?"
   ]
  },
  {
   "cell_type": "markdown",
   "id": "8f5d9cc3",
   "metadata": {},
   "source": [
    "Ans: Operator overloading is used when we want to use an operator other than its normal operation to have different meaning according to the context required in user defined function."
   ]
  },
  {
   "cell_type": "code",
   "execution_count": 8,
   "id": "1509a319",
   "metadata": {},
   "outputs": [
    {
     "name": "stdout",
     "output_type": "stream",
     "text": [
      "total number of pages 300\n"
     ]
    }
   ],
   "source": [
    "class book:\n",
    "    def __init__(self,pages):\n",
    "        self.pages = pages\n",
    "    def __add__(self,other):\n",
    "        return self.pages + other.pages\n",
    "b1= book(100)\n",
    "b2 = book(200)\n",
    "print('total number of pages',b1+b2)"
   ]
  },
  {
   "cell_type": "code",
   "execution_count": null,
   "id": "79cf45f7",
   "metadata": {},
   "outputs": [],
   "source": []
  }
 ],
 "metadata": {
  "kernelspec": {
   "display_name": "Python 3 (ipykernel)",
   "language": "python",
   "name": "python3"
  },
  "language_info": {
   "codemirror_mode": {
    "name": "ipython",
    "version": 3
   },
   "file_extension": ".py",
   "mimetype": "text/x-python",
   "name": "python",
   "nbconvert_exporter": "python",
   "pygments_lexer": "ipython3",
   "version": "3.9.7"
  }
 },
 "nbformat": 4,
 "nbformat_minor": 5
}
