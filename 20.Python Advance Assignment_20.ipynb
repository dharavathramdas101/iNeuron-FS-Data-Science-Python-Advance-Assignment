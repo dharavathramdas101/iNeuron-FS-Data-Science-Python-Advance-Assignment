{
 "cells": [
  {
   "cell_type": "markdown",
   "id": "286b8ffb",
   "metadata": {},
   "source": [
    "## 20.Python Advance Assignment_20"
   ]
  },
  {
   "cell_type": "markdown",
   "id": "f73b6655",
   "metadata": {},
   "source": [
    "### Q1. Compare and contrast the float and Decimal classes' benefits and drawbacks ?\n",
    "\n",
    "### Ans:\n",
    "    Both the float and decimal types store numerical values in Python.\n",
    "\n",
    "Use floats when convenience and speed matter. A float gives you an approximation of the number you declare.\n",
    "\n",
    "Use decimals when precision matters. Decimals can suffer from their own precision issues, but generally, decimals are more precise than floats. The performance difference between float and decimal, with Python 3, is not outlandish, and in my experience, the precision benefits of a decimal outweigh the performance benefits of a float."
   ]
  },
  {
   "cell_type": "markdown",
   "id": "ba8e0f98",
   "metadata": {},
   "source": [
    "### Q2. Decimal('1.200') and Decimal('1.2') are two objects to consider. In what sense are these the same object? Are these just two ways of representing the exact same value, or do they correspond to different internal states ?\n",
    "\n",
    "### Ans:\n",
    "    Both values are same but internal representation at storage Is different. Precsion differs, Decimal('1.200') gives internally 1.200 and Decimal('1.2') gives 1.2."
   ]
  },
  {
   "cell_type": "markdown",
   "id": "ee8ba2e7",
   "metadata": {},
   "source": [
    "### Q3. What happens if the equality of Decimal('1.200') and Decimal('1.2') is checked ?\n",
    "### Ans: \n",
    "    Both values are checked to be equal , they only differ in precision."
   ]
  },
  {
   "cell_type": "markdown",
   "id": "4d966ea7",
   "metadata": {},
   "source": [
    "### Q4. Why is it preferable to start a Decimal object with a string rather than a floating-point value ?\n",
    "### Ans: \n",
    "    Floating-point value is converted to Decimal format. Decimal can store float value with absolute precision. But when float value is given as Decimal object,it first has to be converted from floating point value which might already have rounding error.\n",
    "\n",
    "    Hence it is preferable to start a Decimal object with a string."
   ]
  },
  {
   "cell_type": "markdown",
   "id": "53cca351",
   "metadata": {},
   "source": [
    "### Q5. In an arithmetic phrase, how simple is it to combine Decimal objects with integers ?\n",
    "### Ans: \n",
    "    We can do it with use of Decimal()."
   ]
  },
  {
   "cell_type": "markdown",
   "id": "58236094",
   "metadata": {},
   "source": [
    "### Q6. Can Decimal objects and floating-point values be combined easily ?\n",
    "### Ans: \n",
    "    Arithmetic operfations like Adding,subtracting or multiplying a Decimal object by a floating-point value is generates an error.\n",
    "\n",
    "    To do these operations, the floating point has to be converted to a Decimal."
   ]
  },
  {
   "cell_type": "markdown",
   "id": "8082cb67",
   "metadata": {},
   "source": [
    "### Q7. Using the Fraction class but not the Decimal class, give an example of a quantity that can be expressed with absolute precision ?\n",
    "### Ans: \n",
    "    Value of 0.5 will be represented as ½."
   ]
  },
  {
   "cell_type": "markdown",
   "id": "578845af",
   "metadata": {},
   "source": [
    "### Q8.Consider the following two fraction objects: Fraction(1, 2) and Fraction(1, 2). (5, 10). Is the internal state of these two objects the same? Why do you think that is ?\n",
    "### Ans: \n",
    "    Both will be reduced to 1/2"
   ]
  },
  {
   "cell_type": "markdown",
   "id": "c6dcee46",
   "metadata": {},
   "source": [
    "### Q9. How do the Fraction class and the integer type (int) relate to each other? Containment or inheritance ?\n",
    "### Ans: \n",
    "    Fraction class and integer type(int) are related in form of a container.It contains two ints, one the numerator and the other the denominator"
   ]
  },
  {
   "cell_type": "code",
   "execution_count": null,
   "id": "affcdeac",
   "metadata": {},
   "outputs": [],
   "source": []
  }
 ],
 "metadata": {
  "kernelspec": {
   "display_name": "Python 3 (ipykernel)",
   "language": "python",
   "name": "python3"
  },
  "language_info": {
   "codemirror_mode": {
    "name": "ipython",
    "version": 3
   },
   "file_extension": ".py",
   "mimetype": "text/x-python",
   "name": "python",
   "nbconvert_exporter": "python",
   "pygments_lexer": "ipython3",
   "version": "3.9.7"
  }
 },
 "nbformat": 4,
 "nbformat_minor": 5
}
