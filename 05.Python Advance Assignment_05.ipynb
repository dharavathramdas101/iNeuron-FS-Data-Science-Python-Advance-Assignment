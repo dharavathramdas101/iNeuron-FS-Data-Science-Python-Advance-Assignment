{
 "cells": [
  {
   "cell_type": "markdown",
   "id": "b457f9fb",
   "metadata": {},
   "source": [
    "# Advanced Assignment - 05"
   ]
  },
  {
   "cell_type": "markdown",
   "id": "b7a36d97",
   "metadata": {},
   "source": [
    "### Q1. What is the meaning of multiple inheritance?\n",
    "\n",
    "#### Ans:\n",
    "     When a class is derived from more than one base class it is called multiple Inheritance. The derived class inherits all the features of the base case. Syntax: Class Base1: Body of the class Class Base2: Body of the class Class Derived(Base1, Base2): Body of the class\n",
    "    Inheritence is nothing but reusing the code of Parent class by the child class. Similary when a child class inherits its properties from multiple Parent classes this scenario is called Multiple Inheritence"
   ]
  },
  {
   "cell_type": "code",
   "execution_count": 1,
   "id": "7beea674",
   "metadata": {},
   "outputs": [],
   "source": [
    "class Parent_one:\n",
    "    pass\n",
    "class Parent_two:\n",
    "    pass\n",
    "class child(Parent_one,Parent_two):\n",
    "    pass"
   ]
  },
  {
   "cell_type": "markdown",
   "id": "de9e423a",
   "metadata": {},
   "source": [
    "### Q2. What is the concept of delegation?"
   ]
  },
  {
   "cell_type": "markdown",
   "id": "2bac08bd",
   "metadata": {},
   "source": [
    " #### Ans:\n",
    " \n",
    "    Delegation is an object oriented technique (also called a design pattern). Let's say you have an object x and want to change the behaviour of just one of its methods.  \n",
    "    the delegation pattern is an object-oriented design pattern that allows object composition to achieve the same code reuse as inheritance"
   ]
  },
  {
   "cell_type": "code",
   "execution_count": 2,
   "id": "bb655ca1",
   "metadata": {},
   "outputs": [
    {
     "name": "stdout",
     "output_type": "stream",
     "text": [
      "Hey iam back\n",
      "Hey iam back\n",
      "Hey iam back\n",
      "Iam the main class\n"
     ]
    }
   ],
   "source": [
    "class Myclass:\n",
    "    def sayHi(self):\n",
    "        print('Hey iam back')\n",
    "    def whoAmI(self):\n",
    "        print('Iam the main class')\n",
    "class NewClass:\n",
    "    def __init__(self,obj):\n",
    "        self.main = obj\n",
    "    def welcome(self):\n",
    "        self.main.sayHi()\n",
    "\n",
    "m = Myclass()        \n",
    "n = NewClass(m)\n",
    "m.sayHi()\n",
    "n.main.sayHi()\n",
    "n.welcome()\n",
    "n.main.whoAmI()"
   ]
  },
  {
   "cell_type": "markdown",
   "id": "70fe2f5f",
   "metadata": {},
   "source": [
    "### Q3. What is the concept of composition?"
   ]
  },
  {
   "cell_type": "markdown",
   "id": "f44f1281",
   "metadata": {},
   "source": [
    "#### Ans:\n",
    "    \n",
    "    Composition is a concept that models a has a relationship. It enables creating complex types by combining objects of other types. This means that a class Composite can contain an object of another class Component . This relationship means that a Composite has a Component ."
   ]
  },
  {
   "cell_type": "code",
   "execution_count": 3,
   "id": "f7bb129a",
   "metadata": {},
   "outputs": [
    {
     "name": "stdout",
     "output_type": "stream",
     "text": [
      "Total Salary : 9600\n"
     ]
    }
   ],
   "source": [
    "class Salary:\n",
    "    def __init__(self,pay):\n",
    "        self.pay = pay\n",
    "    def get_total(self):\n",
    "        return self.pay*12\n",
    "    \n",
    "class Employee:\n",
    "    def __init__(self,pay,bonus):\n",
    "        self.pay = pay\n",
    "        self.bonus = bonus\n",
    "        self.obj_salary = Salary(self.pay)\n",
    "    def annual_salary(self):\n",
    "        return f'Total Salary : {str(self.obj_salary.get_total())}'\n",
    "\n",
    "obj_emp = Employee(800,500)\n",
    "print(obj_emp.annual_salary())"
   ]
  },
  {
   "cell_type": "markdown",
   "id": "e307d8c3",
   "metadata": {},
   "source": [
    "### Q4. What are bound methods and how do we use them?"
   ]
  },
  {
   "cell_type": "markdown",
   "id": "a833990f",
   "metadata": {},
   "source": [
    "#### Ans:\n",
    "    \n",
    "    A bound method is the one which is dependent on the instance of the class as the first argument. It passes the instance as the first argument which is used to access the variables and functions. In Python 3 and newer versions of python, all functions in the class are by default bound methods.\n",
    "    "
   ]
  },
  {
   "cell_type": "code",
   "execution_count": 4,
   "id": "56ef8e8c",
   "metadata": {},
   "outputs": [
    {
     "name": "stdout",
     "output_type": "stream",
     "text": [
      "Called method_one\n",
      "Called method_two\n",
      "Called method_two\n",
      "Called method_three\n"
     ]
    }
   ],
   "source": [
    "class Test:\n",
    "    def method_one(self): # bound method\n",
    "        print(\"Called method_one\")\n",
    "    @classmethod\n",
    "    def method_two(cls): # unbound method\n",
    "        print(\"Called method_two\")\n",
    "    @staticmethod\n",
    "    def method_three(): # static method\n",
    "        print(\"Called method_three\")\n",
    "\n",
    "test = Test()\n",
    "test.method_one() # accessing through instance object\n",
    "test.method_two() # accessing through instance object\n",
    "Test.method_two() # accessing directly through class\n",
    "Test.method_three() # accessing directly through class"
   ]
  },
  {
   "cell_type": "markdown",
   "id": "7c298bf1",
   "metadata": {},
   "source": [
    "### Q5. What is the purpose of pseudoprivate attributes?\n",
    "  \n",
    "  \n",
    "#### Ans: \n",
    "    This is sometimes misleadingly called private attributes really, it's just a way to localize a name to the class that created it, and does not prevent access by \n",
    "    In the context of class, private means the attributes are only available for the members of the class not for the outside of the class."
   ]
  },
  {
   "cell_type": "code",
   "execution_count": 5,
   "id": "7bf541c3",
   "metadata": {},
   "outputs": [],
   "source": [
    "class Super:\n",
    "    def method(self): # A real application method\n",
    "        pass\n",
    "class Tool:\n",
    "    def _method(self): # becomes _Tool_method\n",
    "        pass\n",
    "    def other(self): # uses internal method\n",
    "        self._method()\n",
    "class Subl(Tool,Super):\n",
    "    def actions(self):\n",
    "        self.method()\n",
    "class Sub2(Tool):\n",
    "    def __init__(self):\n",
    "        self.method = 99"
   ]
  }
 ],
 "metadata": {
  "kernelspec": {
   "display_name": "Python 3 (ipykernel)",
   "language": "python",
   "name": "python3"
  },
  "language_info": {
   "codemirror_mode": {
    "name": "ipython",
    "version": 3
   },
   "file_extension": ".py",
   "mimetype": "text/x-python",
   "name": "python",
   "nbconvert_exporter": "python",
   "pygments_lexer": "ipython3",
   "version": "3.10.2"
  }
 },
 "nbformat": 4,
 "nbformat_minor": 5
}
