{
 "cells": [
  {
   "cell_type": "markdown",
   "id": "3c73f839",
   "metadata": {},
   "source": [
    "##  15.Python Advance Assignment_15"
   ]
  },
  {
   "cell_type": "markdown",
   "id": "cf612b5d",
   "metadata": {},
   "source": [
    "### Q1. What are the new features added in Python 3.8 version?\n",
    "\n",
    "### Ans:\n",
    "    Walrus Operator: This operator is used to assign and return a value in the same expression. This removes the need for initializing the variable upfront. The major benefit of this is it saves some lines of code. It is also known as The Walrus Operator due to its similarity to the eyes and tusks of a walrus.\n",
    "\n",
    "    yield and return statements do not require parentheses to return multiple values.\n",
    "\n",
    "    Reversed works with a dictionary. The built-in method reversed() can be used for accessing the elements in the reverse order of insertion\n",
    "\n",
    "    Dict comprehensions have been modified so that the key is computed first and the value second.\n",
    "\n",
    "    importlib_metadata is a new library added in the Python’s standard utility modules, that provides an API for accessing an installed package’s metadata, such as its entry points or its top-level name.\n",
    "\n",
    "    f-strings now support = , to make string interpolation easy. Python 3.8 allows the use of the above-discussed assignment operator and equal sign (=) inside the f-strings.\n",
    "\n",
    "    In the three-argument form of pow(), when the exponent is -1, it calculates the modular multiplicative inverse of the given value\n",
    "\n",
    "    The csv.DictReader now returns instances of dictionary instead of a collections.OrderedDict.\n",
    "\n",
    "    If you miss a comma in your code such as a = [(1, 2) (3, 4)], instead of throwing TypeError, it displays an informative Syntax warning."
   ]
  },
  {
   "cell_type": "markdown",
   "id": "1c2aac42",
   "metadata": {},
   "source": [
    "### Q2. What is monkey patching in Python?\n",
    "\n",
    "### Ans:\n",
    "    In Python, the term monkey patch refers to making dynamic (or run-time) modifications to a class or module. In Python, we can actually change the behavior of code at run-time."
   ]
  },
  {
   "cell_type": "markdown",
   "id": "a1aaadeb",
   "metadata": {},
   "source": [
    "### Q3. What is the difference between a shallow copy and deep copy?\n",
    "\n",
    "### Ans:\n",
    "    In Shallow copy, a copy of the original object is stored and only the reference address is finally copied. In Deep copy, the copy of the original object and the repetitive copies both are stored."
   ]
  },
  {
   "cell_type": "markdown",
   "id": "b25da3b2",
   "metadata": {},
   "source": [
    "### Q4. What is the maximum possible length of an identifier?\n",
    "\n",
    "### Ans:\n",
    "    An identifier can have a maximum length of 79 characters in Python. Python is one of the most popular programming languages. Guido van Rossum created it, and it was released in 1991."
   ]
  },
  {
   "cell_type": "markdown",
   "id": "a9195bad",
   "metadata": {},
   "source": [
    "### Q5. What is generator comprehension?\n",
    "\n",
    "### Ans:\n",
    "    A generator comprehension is a single-line specification for defining a generator in Python. It is absolutely essential to learn this syntax in order to write simple and readable code. Note: Generator comprehensions are not the only method for defining generators in Python."
   ]
  },
  {
   "cell_type": "code",
   "execution_count": null,
   "id": "1d568e13",
   "metadata": {},
   "outputs": [],
   "source": []
  }
 ],
 "metadata": {
  "kernelspec": {
   "display_name": "Python 3 (ipykernel)",
   "language": "python",
   "name": "python3"
  },
  "language_info": {
   "codemirror_mode": {
    "name": "ipython",
    "version": 3
   },
   "file_extension": ".py",
   "mimetype": "text/x-python",
   "name": "python",
   "nbconvert_exporter": "python",
   "pygments_lexer": "ipython3",
   "version": "3.9.7"
  }
 },
 "nbformat": 4,
 "nbformat_minor": 5
}
