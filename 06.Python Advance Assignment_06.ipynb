{
 "cells": [
  {
   "cell_type": "markdown",
   "id": "612b1641",
   "metadata": {},
   "source": [
    "# Advanced Assignment - 06"
   ]
  },
  {
   "cell_type": "markdown",
   "id": "d72632cc",
   "metadata": {},
   "source": [
    "### Q1. Describe three applications for exception processing.?\n",
    "\n",
    "#### Ans:\n",
    "    In Python, exceptions can be handled using a try statement. The critical operation which can raise an exception is placed inside the try clause. The code that handles the exceptions is written in the except clause. We can thus choose what operations to perform once we have caught the exception.\n",
    "    \n",
    "    Exception handling is the process of responding to unwanted or unexpected events when a computer program runs. Exception handling deals with these events to avoid the program or system crashing, and without this process, exceptions would disrupt the normal operation of a program."
   ]
  },
  {
   "cell_type": "markdown",
   "id": "68c2b2b0",
   "metadata": {},
   "source": [
    "### Q2. What happens if you don't do something extra to treat an exception?\n",
    "\n",
    "#### Ans: \n",
    "    If Exceptions are not handled flow of program will be broken during the run time which might lead to a abnormal termination of the program. Inshort inability of program to handle exceptions will result in crashing of program."
   ]
  },
  {
   "cell_type": "markdown",
   "id": "6470c546",
   "metadata": {},
   "source": [
    "### Q3. What are your options for recovering from an exception in your script?\n",
    "\n",
    "#### Ans: \n",
    "    Python provides try and except statements for recovering from an exception in your script."
   ]
  },
  {
   "cell_type": "markdown",
   "id": "6cb99b47",
   "metadata": {},
   "source": [
    "### Q4. Describe two methods for triggering exceptions in your script ?\n",
    "\n",
    "#### Ans: \n",
    "    raise and assert are two methods that can be used to trigger manual exceptions in your script.\n",
    "\n",
    "    raise method triggers an exception if condition provided to it turns out to be True.\n",
    "    assert will let the program to continue execution if condition provided to it turns out to be True else exception will be raised"
   ]
  },
  {
   "cell_type": "markdown",
   "id": "aa985076",
   "metadata": {},
   "source": [
    "### Q5. Identify two methods for specifying actions to be executed at termination time, regardless of whether or not an exception exists.\n",
    "\n",
    "#### Ans: \n",
    "    Python Provides else and finally blocks for specifying actions to be executed at termination time, regardless of whether an exceptions exists or not."
   ]
  },
  {
   "cell_type": "code",
   "execution_count": null,
   "id": "9096c088",
   "metadata": {},
   "outputs": [],
   "source": []
  }
 ],
 "metadata": {
  "kernelspec": {
   "display_name": "Python 3 (ipykernel)",
   "language": "python",
   "name": "python3"
  },
  "language_info": {
   "codemirror_mode": {
    "name": "ipython",
    "version": 3
   },
   "file_extension": ".py",
   "mimetype": "text/x-python",
   "name": "python",
   "nbconvert_exporter": "python",
   "pygments_lexer": "ipython3",
   "version": "3.10.2"
  }
 },
 "nbformat": 4,
 "nbformat_minor": 5
}
